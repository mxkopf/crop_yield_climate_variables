{
 "cells": [
  {
   "cell_type": "markdown",
   "metadata": {},
   "source": [
    "# The Impact of Temperature and Precipitation on Annual Crop Yield in North America #"
   ]
  },
  {
   "cell_type": "markdown",
   "metadata": {},
   "source": [
    "This script shows the data analysis for the research paper: \"The Impact of Temperature and Precipitation on Annual Crop Yield in North America\". \n",
    "\n",
    "Paper and analysis by: \n",
    "\n",
    "Maxim Mahnkopf, Dominic Schierbaum and Nick van Nuland"
   ]
  },
  {
   "cell_type": "markdown",
   "metadata": {},
   "source": [
    "# Part 1 (Python)"
   ]
  },
  {
   "cell_type": "markdown",
   "metadata": {},
   "source": [
    "Import Packages\n"
   ]
  },
  {
   "cell_type": "code",
   "execution_count": 2,
   "metadata": {},
   "outputs": [],
   "source": [
    "import xarray as xr\n",
    "import os"
   ]
  },
  {
   "cell_type": "markdown",
   "metadata": {},
   "source": [
    "Set Path"
   ]
  },
  {
   "cell_type": "code",
   "execution_count": 3,
   "metadata": {},
   "outputs": [],
   "source": [
    "# os.chdir(r\"your/path\")"
   ]
  },
  {
   "cell_type": "markdown",
   "metadata": {},
   "source": [
    "## Climate Variables: Access and Calculating Seasonal Mean"
   ]
  },
  {
   "cell_type": "markdown",
   "metadata": {},
   "source": [
    "Access the Data Cube"
   ]
  },
  {
   "cell_type": "code",
   "execution_count": 4,
   "metadata": {},
   "outputs": [],
   "source": [
    "zarr_path = \"http://data.rsc4earth.de/EarthSystemDataCube/v2.1.0/esdc-8d-0.083deg-1x2160x4320-2.1.0.zarr\"\n",
    "data_cube = xr.open_zarr(zarr_path)"
   ]
  },
  {
   "cell_type": "markdown",
   "metadata": {},
   "source": [
    "Choose Climate Variables, Region and Time Period"
   ]
  },
  {
   "cell_type": "code",
   "execution_count": 5,
   "metadata": {},
   "outputs": [],
   "source": [
    "climate_variable = [\"air_temperature_2m\",\"precipitation\"]\n",
    "subset = data_cube[climate_variable].sel(lon=slice(-169.05, -53.0), lat=slice(71.0, 25.0),time=slice('1982', '2016'))"
   ]
  },
  {
   "cell_type": "markdown",
   "metadata": {},
   "source": [
    "Calcualte the Seasonal Mean Over the Growing Period for the Climate Variables"
   ]
  },
  {
   "cell_type": "code",
   "execution_count": 6,
   "metadata": {},
   "outputs": [],
   "source": [
    "subset = subset.sel(time=subset['time.month'].isin([4, 5, 6, 7, 8, 9]))\n",
    "seasonal_mean = subset['air_temperature_2m'].groupby('time.year').mean(dim='time') \n",
    "seasonal_precipitation = subset['precipitation'].groupby('time.year').sum(dim='time')\n",
    "\n",
    "seasonal = xr.Dataset({\n",
    "  'temperature': (['year', 'lat', 'lon'], seasonal_mean.data),\n",
    "  'precipitation': (['year', 'lat', 'lon'], seasonal_precipitation.data)\n",
    "}, coords={\n",
    "  'year': seasonal_mean['year'],\n",
    "  'lat': seasonal_mean['lat'],\n",
    "  'lon': seasonal_mean['lon']\n",
    "})"
   ]
  },
  {
   "cell_type": "code",
   "execution_count": 7,
   "metadata": {},
   "outputs": [],
   "source": [
    "# export seasonal mean data\n",
    "seasonal.to_netcdf(\"data/seasonal.nc4\")\n",
    "\n",
    "# this execution can take up to 15 minutes"
   ]
  },
  {
   "cell_type": "markdown",
   "metadata": {},
   "source": [
    "## Crop Yield Data (GDHY): Stacking"
   ]
  },
  {
   "cell_type": "markdown",
   "metadata": {},
   "source": [
    "Stack All nc4 Files:\n",
    "Make sure you have downloaded the crop yield data from the git repo: https://github.com/mxkopf/Crop_Yield_Climate_Var\n",
    "\n",
    "The data set in the github repo was downloaded from the original paper: https://doi.pangaea.de/10.1594/PANGAEA.909132"
   ]
  },
  {
   "cell_type": "markdown",
   "metadata": {},
   "source": [
    "Spring Wheat"
   ]
  },
  {
   "cell_type": "code",
   "execution_count": 8,
   "metadata": {},
   "outputs": [
    {
     "name": "stdout",
     "output_type": "stream",
     "text": [
      "Stacked dataset saved to data/wheat_stacked.nc4\n"
     ]
    }
   ],
   "source": [
    "directory = 'data/wheat'\n",
    "sorted_files = sorted(os.listdir(directory), key=lambda x: int(x.split('_')[1].split('.')[0]))\n",
    "wheat = xr.Dataset()\n",
    "\n",
    "for filename in sorted_files:\n",
    "    if filename.endswith(\".nc4\"):\n",
    "        filepath = os.path.join(directory, filename)\n",
    "        ds = xr.open_dataset(filepath, engine='netcdf4')\n",
    "        wheat = xr.concat([wheat, ds], dim='time')\n",
    "\n",
    "# Define 'time' as a coordinate variable\n",
    "wheat = wheat.assign_coords(time=wheat.time)\n",
    "\n",
    "# Export the stacked dataset to a new NetCDF4 file\n",
    "output_file = \"data/wheat_stacked.nc4\"\n",
    "wheat.to_netcdf(output_file, format='netCDF4')\n",
    "\n",
    "print(f\"Stacked dataset saved to {output_file}\")\n"
   ]
  },
  {
   "cell_type": "markdown",
   "metadata": {},
   "source": [
    "Maize"
   ]
  },
  {
   "cell_type": "code",
   "execution_count": 9,
   "metadata": {},
   "outputs": [
    {
     "name": "stdout",
     "output_type": "stream",
     "text": [
      "Stacked dataset saved to data/maize_stacked.nc4\n"
     ]
    }
   ],
   "source": [
    "directory = 'data/maize'\n",
    "sorted_files = sorted(os.listdir(directory), key=lambda x: int(x.split('_')[1].split('.')[0]))\n",
    "maize = xr.Dataset()\n",
    "\n",
    "for filename in sorted_files:\n",
    "    if filename.endswith(\".nc4\"):\n",
    "        filepath = os.path.join(directory, filename)\n",
    "        ds = xr.open_dataset(filepath, engine='netcdf4')\n",
    "        maize = xr.concat([maize, ds], dim='time')\n",
    "\n",
    "# Define 'time' as a coordinate variable\n",
    "maize = maize.assign_coords(time=maize.time)\n",
    "\n",
    "# Export the stacked dataset to a new NetCDF4 file\n",
    "output_file = \"data/maize_stacked.nc4\"\n",
    "maize.to_netcdf(output_file, format='netCDF4')\n",
    "\n",
    "print(f\"Stacked dataset saved to {output_file}\")\n"
   ]
  },
  {
   "cell_type": "markdown",
   "metadata": {},
   "source": [
    "Soybean"
   ]
  },
  {
   "cell_type": "code",
   "execution_count": 10,
   "metadata": {},
   "outputs": [
    {
     "name": "stdout",
     "output_type": "stream",
     "text": [
      "Stacked dataset saved to data/soybean_stacked.nc4\n"
     ]
    }
   ],
   "source": [
    "directory = 'data/soybean'\n",
    "sorted_files = sorted(os.listdir(directory), key=lambda x: int(x.split('_')[1].split('.')[0]))\n",
    "soybean = xr.Dataset()\n",
    "\n",
    "for filename in sorted_files:\n",
    "    if filename.endswith(\".nc4\"):\n",
    "        filepath = os.path.join(directory, filename)\n",
    "        ds = xr.open_dataset(filepath, engine='netcdf4')\n",
    "        soybean = xr.concat([soybean, ds], dim='time')\n",
    "\n",
    "# Define 'time' as a coordinate variable\n",
    "soybean = soybean.assign_coords(time=soybean.time)\n",
    "\n",
    "# Export the stacked dataset to a new NetCDF4 file\n",
    "output_file = \"data/soybean_stacked.nc4\"\n",
    "soybean.to_netcdf(output_file, format='netCDF4')\n",
    "\n",
    "print(f\"Stacked dataset saved to {output_file}\")\n"
   ]
  }
 ],
 "metadata": {
  "kernelspec": {
   "display_name": "Python 3",
   "language": "python",
   "name": "python3"
  },
  "language_info": {
   "codemirror_mode": {
    "name": "ipython",
    "version": 3
   },
   "file_extension": ".py",
   "mimetype": "text/x-python",
   "name": "python",
   "nbconvert_exporter": "python",
   "pygments_lexer": "ipython3",
   "version": "3.11.5"
  },
  "orig_nbformat": 4
 },
 "nbformat": 4,
 "nbformat_minor": 2
}
