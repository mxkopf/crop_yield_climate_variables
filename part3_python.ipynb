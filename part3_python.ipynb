{
 "cells": [
  {
   "cell_type": "markdown",
   "metadata": {},
   "source": [
    "# Part 3 (Python)"
   ]
  },
  {
   "cell_type": "markdown",
   "metadata": {},
   "source": [
    "# Resampling and Stacking to Data Cube"
   ]
  },
  {
   "cell_type": "markdown",
   "metadata": {},
   "source": [
    "Import packages"
   ]
  },
  {
   "cell_type": "code",
   "execution_count": 1,
   "metadata": {},
   "outputs": [],
   "source": [
    "import xarray as xr\n",
    "import dask.array as da\n",
    "import numpy as np\n",
    "import os"
   ]
  },
  {
   "cell_type": "markdown",
   "metadata": {},
   "source": [
    "Set Path"
   ]
  },
  {
   "cell_type": "code",
   "execution_count": 4,
   "metadata": {},
   "outputs": [],
   "source": [
    "#os.chdir(r\"your/path\")"
   ]
  },
  {
   "cell_type": "markdown",
   "metadata": {},
   "source": [
    "Open Crop Yield Data"
   ]
  },
  {
   "cell_type": "code",
   "execution_count": 11,
   "metadata": {},
   "outputs": [],
   "source": [
    "spring_wheat = xr.open_dataset(\"data/wheat_stacked_rotated.nc\", engine='netcdf4')\n",
    "soybean = xr.open_dataset(\"data/soybean_stacked_rotated.nc\", engine='netcdf4')\n",
    "maize = xr.open_dataset(\"data/maize_stacked_rotated.nc\", engine='netcdf4')"
   ]
  },
  {
   "cell_type": "markdown",
   "metadata": {},
   "source": [
    "Rename Year"
   ]
  },
  {
   "cell_type": "code",
   "execution_count": 12,
   "metadata": {},
   "outputs": [],
   "source": [
    "spring_wheat['z'] = list(range(1982,2017))\n",
    "soybean['z'] = list(range(1982,2017))\n",
    "maize['z'] = list(range(1982,2017))\n",
    "spring_wheat = spring_wheat.sel(z=slice('1982', '2016'))\n",
    "soybean = soybean.sel(z=slice('1982', '2016'))\n",
    "maize = maize.sel(z=slice('1982', '2016'))\n",
    "spring_wheat = spring_wheat.rename({'z': 'year'})\n",
    "soybean = soybean.rename({'z': 'year'})\n",
    "maize = maize.rename({'z': 'year'})"
   ]
  },
  {
   "cell_type": "markdown",
   "metadata": {},
   "source": [
    "Open Climate Variables"
   ]
  },
  {
   "cell_type": "code",
   "execution_count": 6,
   "metadata": {},
   "outputs": [],
   "source": [
    "seasonal = xr.open_dataset(\"data/seasonal.nc4\", engine='netcdf4')"
   ]
  },
  {
   "cell_type": "markdown",
   "metadata": {},
   "source": [
    "Resample (to Resolution of Crop Yield Data)"
   ]
  },
  {
   "cell_type": "code",
   "execution_count": 8,
   "metadata": {},
   "outputs": [],
   "source": [
    "gdhy_lat = maize.latitude\n",
    "gdhy_lon = maize.longitude"
   ]
  },
  {
   "cell_type": "code",
   "execution_count": 9,
   "metadata": {},
   "outputs": [],
   "source": [
    "resampled_data = seasonal.interp(lat=gdhy_lat, lon=gdhy_lon, method='linear')"
   ]
  },
  {
   "cell_type": "markdown",
   "metadata": {},
   "source": [
    "Expot as Datacube"
   ]
  },
  {
   "cell_type": "code",
   "execution_count": 24,
   "metadata": {},
   "outputs": [],
   "source": [
    "maize_da = da.from_array(maize['variable'],chunks=(35,92,232))\n",
    "soybean_da = da.from_array(soybean['variable'],chunks=(35,92,232))\n",
    "wheat_da = da.from_array(spring_wheat['variable'],chunks=(35,92,232))"
   ]
  },
  {
   "cell_type": "code",
   "execution_count": 25,
   "metadata": {},
   "outputs": [],
   "source": [
    "dims = ('year', 'latitude', 'longitude')\n",
    "resampled_data['maize'] =(dims ,  maize_da)\n",
    "resampled_data['soybean'] =(dims ,  soybean_da)\n",
    "resampled_data['wheat'] =(dims ,  wheat_da)"
   ]
  },
  {
   "cell_type": "code",
   "execution_count": 26,
   "metadata": {},
   "outputs": [],
   "source": [
    "resampled_data.to_netcdf('data/datacube_final.nc')"
   ]
  }
 ],
 "metadata": {
  "kernelspec": {
   "display_name": "Python 3",
   "language": "python",
   "name": "python3"
  },
  "language_info": {
   "codemirror_mode": {
    "name": "ipython",
    "version": 3
   },
   "file_extension": ".py",
   "mimetype": "text/x-python",
   "name": "python",
   "nbconvert_exporter": "python",
   "pygments_lexer": "ipython3",
   "version": "3.11.5"
  },
  "orig_nbformat": 4
 },
 "nbformat": 4,
 "nbformat_minor": 2
}
