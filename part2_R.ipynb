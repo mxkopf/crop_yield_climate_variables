{
 "cells": [
  {
   "cell_type": "markdown",
   "metadata": {},
   "source": [
    "## Part 2 (R)"
   ]
  },
  {
   "cell_type": "markdown",
   "metadata": {},
   "source": [
    "# Crop Yield Data (GDHY): Rotating and Croping"
   ]
  },
  {
   "cell_type": "markdown",
   "metadata": {},
   "source": [
    "Load R Library"
   ]
  },
  {
   "cell_type": "code",
   "execution_count": 10,
   "metadata": {
    "vscode": {
     "languageId": "r"
    }
   },
   "outputs": [],
   "source": [
    "library(ncdf4)\n",
    "library(rasterVis)\n",
    "library(raster)\n",
    "library(ggplot2)\n",
    "library(rgdal)\n",
    "library(sf)"
   ]
  },
  {
   "cell_type": "markdown",
   "metadata": {},
   "source": [
    "Set Path"
   ]
  },
  {
   "cell_type": "code",
   "execution_count": 12,
   "metadata": {
    "vscode": {
     "languageId": "r"
    }
   },
   "outputs": [],
   "source": [
    "# setwd(\"your/path\")"
   ]
  },
  {
   "cell_type": "markdown",
   "metadata": {},
   "source": [
    "Rotate The Crop Yield Data Set"
   ]
  },
  {
   "cell_type": "markdown",
   "metadata": {},
   "source": [
    "Load Crop Yield Data"
   ]
  },
  {
   "cell_type": "code",
   "execution_count": 13,
   "metadata": {
    "vscode": {
     "languageId": "r"
    }
   },
   "outputs": [],
   "source": [
    "maize <- raster::stack(\"data/maize_stacked.nc4\")\n",
    "soybean <- raster::stack(\"data/soybean_stacked.nc4\")\n",
    "spring_wheat <- raster::stack(\"data/wheat_stacked.nc4\")"
   ]
  },
  {
   "cell_type": "markdown",
   "metadata": {},
   "source": [
    "Rotate Data"
   ]
  },
  {
   "cell_type": "code",
   "execution_count": 14,
   "metadata": {
    "vscode": {
     "languageId": "r"
    }
   },
   "outputs": [],
   "source": [
    "# rotate longitude: from (0° : 360°) to (-180° : 180°)\n",
    "maize <- rotate(maize, left = FALSE, overwrite=TRUE)\n",
    "soybean <- rotate(soybean, left = FALSE, overwrite=TRUE)\n",
    "spring_wheat <- rotate(spring_wheat, left = FALSE, overwrite=TRUE)"
   ]
  },
  {
   "cell_type": "markdown",
   "metadata": {},
   "source": [
    "Crop Data Set to Extent "
   ]
  },
  {
   "cell_type": "code",
   "execution_count": 15,
   "metadata": {
    "vscode": {
     "languageId": "r"
    }
   },
   "outputs": [],
   "source": [
    "# Define the extent \n",
    "min_lon <- -169.0\n",
    "max_lon <- -53.0\n",
    "min_lat <- 25.0\n",
    "max_lat <- 71.0\n",
    "na_extent <- extent( min_lon, max_lon, min_lat, max_lat)\n",
    "maize<- crop(maize, na_extent)\n",
    "soybean<- crop(soybean, na_extent)\n",
    "spring_wheat<- crop(spring_wheat, na_extent)"
   ]
  },
  {
   "cell_type": "markdown",
   "metadata": {},
   "source": [
    "Delete Year 1981 Since the Data for this Year is Insufficient"
   ]
  },
  {
   "cell_type": "code",
   "execution_count": 16,
   "metadata": {
    "vscode": {
     "languageId": "r"
    }
   },
   "outputs": [],
   "source": [
    "maize           <- subset(maize, 2:36)\n",
    "soybean         <- subset(soybean, 2:36)\n",
    "spring_wheat    <- subset(spring_wheat, 2:36)"
   ]
  },
  {
   "cell_type": "markdown",
   "metadata": {},
   "source": [
    "Export"
   ]
  },
  {
   "cell_type": "code",
   "execution_count": 21,
   "metadata": {
    "vscode": {
     "languageId": "r"
    }
   },
   "outputs": [],
   "source": [
    "writeRaster(spring_wheat, filename = \"data/wheat_stacked_rotated.nc\",format = \"CDF\",overwrite=T)\n",
    "writeRaster(soybean, filename = \"data/soybean_stacked_rotated.nc\",format = \"CDF\",overwrite=T)\n",
    "writeRaster(maize, filename = \"data/maize_stacked_rotated.nc\",format = \"CDF\",overwrite=T)"
   ]
  }
 ],
 "metadata": {
  "kernelspec": {
   "display_name": "R",
   "language": "R",
   "name": "ir"
  },
  "language_info": {
   "codemirror_mode": "r",
   "file_extension": ".r",
   "mimetype": "text/x-r-source",
   "name": "R",
   "pygments_lexer": "r",
   "version": "4.3.0"
  },
  "orig_nbformat": 4
 },
 "nbformat": 4,
 "nbformat_minor": 2
}
