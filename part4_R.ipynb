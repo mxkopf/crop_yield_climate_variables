{
 "cells": [
  {
   "cell_type": "markdown",
   "metadata": {},
   "source": [
    "# Part 4 (R)"
   ]
  },
  {
   "cell_type": "markdown",
   "metadata": {},
   "source": [
    "# Statistical Analysis"
   ]
  },
  {
   "cell_type": "markdown",
   "metadata": {},
   "source": [
    "This code provides the statistical analysis of the research paper: The Impact of Temperature and Precipitation on Annual Crop Yield in North America.\n",
    "\n",
    "\n",
    "Paper and analysis by: \n",
    "\n",
    "Maxim Mahnkopf, Dominic Schierbaum and Nick van Nuland"
   ]
  },
  {
   "cell_type": "markdown",
   "metadata": {},
   "source": [
    "Load R Library"
   ]
  },
  {
   "cell_type": "code",
   "execution_count": 23,
   "metadata": {
    "vscode": {
     "languageId": "r"
    }
   },
   "outputs": [],
   "source": [
    "library(ncdf4)\n",
    "library(rasterVis)\n",
    "library(raster) \n",
    "library(ggplot2)\n",
    "library(rgdal)\n",
    "library(sf)\n",
    "library(pracma)\n",
    "library(dplyr)\n",
    "library(terra)\n",
    "library(Metrics)"
   ]
  },
  {
   "cell_type": "markdown",
   "metadata": {},
   "source": [
    "Set Path"
   ]
  },
  {
   "cell_type": "code",
   "execution_count": 24,
   "metadata": {
    "vscode": {
     "languageId": "r"
    }
   },
   "outputs": [],
   "source": [
    "# setwd(\"your/path\")"
   ]
  },
  {
   "cell_type": "markdown",
   "metadata": {},
   "source": [
    "# Data Preprocessing"
   ]
  },
  {
   "cell_type": "markdown",
   "metadata": {},
   "source": [
    "Load Data"
   ]
  },
  {
   "cell_type": "code",
   "execution_count": 25,
   "metadata": {
    "vscode": {
     "languageId": "r"
    }
   },
   "outputs": [],
   "source": [
    "datacube <- nc_open(\"data/datacube_final.nc\")"
   ]
  },
  {
   "cell_type": "code",
   "execution_count": 26,
   "metadata": {
    "vscode": {
     "languageId": "r"
    }
   },
   "outputs": [
    {
     "data": {
      "text/html": [
       "<style>\n",
       ".list-inline {list-style: none; margin:0; padding: 0}\n",
       ".list-inline>li {display: inline-block}\n",
       ".list-inline>li:not(:last-child)::after {content: \"\\00b7\"; padding: 0 .5ex}\n",
       "</style>\n",
       "<ol class=list-inline><li>'temperature'</li><li>'precipitation'</li><li>'lat'</li><li>'lon'</li><li>'maize'</li><li>'soybean'</li><li>'wheat'</li></ol>\n"
      ],
      "text/latex": [
       "\\begin{enumerate*}\n",
       "\\item 'temperature'\n",
       "\\item 'precipitation'\n",
       "\\item 'lat'\n",
       "\\item 'lon'\n",
       "\\item 'maize'\n",
       "\\item 'soybean'\n",
       "\\item 'wheat'\n",
       "\\end{enumerate*}\n"
      ],
      "text/markdown": [
       "1. 'temperature'\n",
       "2. 'precipitation'\n",
       "3. 'lat'\n",
       "4. 'lon'\n",
       "5. 'maize'\n",
       "6. 'soybean'\n",
       "7. 'wheat'\n",
       "\n",
       "\n"
      ],
      "text/plain": [
       "[1] \"temperature\"   \"precipitation\" \"lat\"           \"lon\"          \n",
       "[5] \"maize\"         \"soybean\"       \"wheat\"        "
      ]
     },
     "metadata": {},
     "output_type": "display_data"
    }
   ],
   "source": [
    "names(datacube[['var']])\n"
   ]
  },
  {
   "cell_type": "code",
   "execution_count": 27,
   "metadata": {
    "vscode": {
     "languageId": "r"
    }
   },
   "outputs": [],
   "source": [
    "# load variables\n",
    "maize                     <-   raster::stack(raster::stack(datacube[1],varname=\"maize\"))\n",
    "soybean                   <-   raster::stack(raster::stack(datacube[1],varname=\"soybean\"))\n",
    "spring_wheat              <-   raster::stack(raster::stack(datacube[1],varname=\"wheat\"))\n",
    "precipitation             <-   raster::stack(raster::stack(datacube[1],varname=\"precipitation\"))\n",
    "temperature               <-   raster::stack(raster::stack(datacube[1],varname=\"temperature\"))"
   ]
  },
  {
   "cell_type": "markdown",
   "metadata": {},
   "source": [
    "Change Year Names"
   ]
  },
  {
   "cell_type": "code",
   "execution_count": 28,
   "metadata": {
    "vscode": {
     "languageId": "r"
    }
   },
   "outputs": [],
   "source": [
    "# creating a year vector\n",
    "year_vector <- as.character(1982:2016)\n",
    "\n",
    "# exchange\n",
    "names(temperature@layers)[1:35] <- year_vector\n",
    "names(precipitation@layers)[1:35] <- year_vector\n",
    "names(maize@layers)[1:35] <- year_vector\n",
    "names(soybean@layers)[1:35] <- year_vector\n",
    "names(spring_wheat@layers)[1:35] <- year_vector"
   ]
  },
  {
   "cell_type": "code",
   "execution_count": 29,
   "metadata": {
    "vscode": {
     "languageId": "r"
    }
   },
   "outputs": [],
   "source": [
    "datacube <- stack(maize, soybean, spring_wheat, precipitation, temperature)"
   ]
  },
  {
   "cell_type": "markdown",
   "metadata": {},
   "source": [
    "Check for NAs in Datacube"
   ]
  },
  {
   "cell_type": "code",
   "execution_count": 30,
   "metadata": {
    "vscode": {
     "languageId": "r"
    }
   },
   "outputs": [
    {
     "data": {
      "text/html": [
       "175"
      ],
      "text/latex": [
       "175"
      ],
      "text/markdown": [
       "175"
      ],
      "text/plain": [
       "[1] 175"
      ]
     },
     "metadata": {},
     "output_type": "display_data"
    }
   ],
   "source": [
    "nlayers(datacube)"
   ]
  },
  {
   "cell_type": "code",
   "execution_count": 31,
   "metadata": {
    "vscode": {
     "languageId": "r"
    }
   },
   "outputs": [
    {
     "data": {
      "image/png": "[encoded data removed]",
      "text/plain": [
       "plot without title"
      ]
     },
     "metadata": {
      "image/png": {
       "height": 420,
       "width": 420
      }
     },
     "output_type": "display_data"
    }
   ],
   "source": [
    "count.non.null <- list()\n",
    "for (i in 1:175){                                          \n",
    "  count.non.null[[i]] <- sum(!is.na(values(datacube[[i]]))) \n",
    "}\n",
    "plot(c(1:175), count.non.null, type=\"l\")"
   ]
  },
  {
   "cell_type": "code",
   "execution_count": 32,
   "metadata": {
    "vscode": {
     "languageId": "r"
    }
   },
   "outputs": [],
   "source": [
    "# while precipitation (106:140) and temperature (141:175) have no NA values, maize, soybean and spring_wheat have about 80% to 90% NA values. \n",
    "# this does make a lot of sense, since not more that 20% is agricultural area for each crop type\n",
    "# also: the line for maize (1:35), soybean (36:70) and spring_wheat (71:105) is not straight --> this indicates that the years have inconsistent amounts of NA values"
   ]
  },
  {
   "cell_type": "markdown",
   "metadata": {},
   "source": [
    "Clean Out All Rows with Inconcistent NAs"
   ]
  },
  {
   "cell_type": "code",
   "execution_count": 33,
   "metadata": {
    "vscode": {
     "languageId": "r"
    }
   },
   "outputs": [],
   "source": [
    "# for maize\n",
    "maize.mask <- datacube[[35]]    # get the last year as mask\n",
    "for (i in 1:35) {\n",
    "  # Extract the data for the current year\n",
    "  layer <- mask(datacube[[i]], maize.mask)\n",
    "  # Add the cleaned data to the raster stack\n",
    "   datacube[[i]] <- layer\n",
    "}\n",
    "\n",
    "# for soybean\n",
    "soybean.mask <- datacube[[70]]\n",
    "for (i in 36:70) {\n",
    "  # Extract the data for the current year\n",
    "  layer <- mask(datacube[[i]], soybean.mask)\n",
    "  # Add the cleaned data to the raster stack\n",
    "  datacube[[i]] <- layer\n",
    "}\n",
    "\n",
    "# for spring_wheat\n",
    "wheat.mask <- datacube[[105]]\n",
    "for (i in 71:105) {\n",
    "  # Extract the data for the current year\n",
    "  layer <- mask(datacube[[i]], wheat.mask)\n",
    "  # Add the cleaned data to the raster stack\n",
    "  datacube[[i]] <- layer\n",
    "}\n"
   ]
  },
  {
   "cell_type": "markdown",
   "metadata": {},
   "source": [
    "Detrend Crop Yield Data"
   ]
  },
  {
   "cell_type": "code",
   "execution_count": 34,
   "metadata": {
    "vscode": {
     "languageId": "r"
    }
   },
   "outputs": [],
   "source": [
    "# detrending with this detrend function from the pracma package:\n",
    "fun_detr <- function(x) {detrend(x, tt='linear', bp=c())}"
   ]
  },
  {
   "cell_type": "code",
   "execution_count": 35,
   "metadata": {
    "vscode": {
     "languageId": "r"
    }
   },
   "outputs": [
    {
     "data": {
      "image/png": "[encoded data removed]",
      "text/plain": [
       "Plot with title \"maize detrended\""
      ]
     },
     "metadata": {
      "image/png": {
       "height": 420,
       "width": 420
      }
     },
     "output_type": "display_data"
    }
   ],
   "source": [
    "#maize\n",
    "x1 <- calc(datacube[[1:35]], fun_detr)\n",
    "maize_detrend <- stack()\n",
    "for (i in 1:nlayers(x1)) {\n",
    "  layer <- x1[[i]]\n",
    "  datacube[[i]] <- layer  \n",
    "}\n",
    "#plot detre nding\n",
    "maize_detrend_mean <- cellStats(datacube[[1:35]], mean)\n",
    "maize_mean <- cellStats(maize, mean)\n",
    "plot(year_vector, maize_mean , type=\"l\", main=\"maize detrended\",ylim = c(-2, 10))\n",
    "lines(year_vector,maize_detrend_mean , type=\"l\", col=\"red\")"
   ]
  },
  {
   "cell_type": "code",
   "execution_count": 36,
   "metadata": {
    "vscode": {
     "languageId": "r"
    }
   },
   "outputs": [
    {
     "data": {
      "image/png": "[encoded data removed]",
      "text/plain": [
       "Plot with title \"soybean detrended\""
      ]
     },
     "metadata": {
      "image/png": {
       "height": 420,
       "width": 420
      }
     },
     "output_type": "display_data"
    }
   ],
   "source": [
    "#soybean\n",
    "x2 <- calc(datacube[[36:70]], fun_detr)\n",
    "soybean_detrend <- stack()\n",
    "for (i in 1:nlayers(x2)) {\n",
    "  layer <- x2[[i]]\n",
    "  datacube[[i+35]] <- layer  \n",
    "}\n",
    "\n",
    "#plot detrending\n",
    "soybean_detrend_mean <- cellStats(datacube[[36:70]], mean)\n",
    "soybean_mean <- cellStats(soybean, mean)\n",
    "plot(year_vector, soybean_mean , type=\"l\", main=\"soybean detrended\",ylim = c(-2, 10))\n",
    "lines(year_vector,soybean_detrend_mean , type=\"l\", col=\"red\")"
   ]
  },
  {
   "cell_type": "code",
   "execution_count": 37,
   "metadata": {
    "vscode": {
     "languageId": "r"
    }
   },
   "outputs": [
    {
     "data": {
      "image/png": "[encoded data removed]",
      "text/plain": [
       "Plot with title \"wheat detrended\""
      ]
     },
     "metadata": {
      "image/png": {
       "height": 420,
       "width": 420
      }
     },
     "output_type": "display_data"
    }
   ],
   "source": [
    "#wheat\n",
    "x3 <- calc(datacube[[71:105]], fun_detr)\n",
    "wheat_detrend <- stack()\n",
    "for (i in 1:nlayers(x3)) {\n",
    "  layer <- x3[[i]]\n",
    "  datacube[[i+70]] <- layer  \n",
    "}\n",
    "#plot detrending\n",
    "wheat_detrend_mean <- cellStats(datacube[[71:105]], mean)\n",
    "wheat_mean <- cellStats(spring_wheat, mean)\n",
    "plot(year_vector, wheat_mean , type=\"l\", main=\"wheat detrended\",ylim = c(-2, 10))\n",
    "lines(year_vector,wheat_detrend_mean , type=\"l\", col=\"red\")"
   ]
  },
  {
   "cell_type": "markdown",
   "metadata": {},
   "source": [
    "# Prediction Model (Linear Rregression): Temperature"
   ]
  },
  {
   "cell_type": "markdown",
   "metadata": {},
   "source": [
    "Create Temperature Data Frame"
   ]
  },
  {
   "cell_type": "code",
   "execution_count": 38,
   "metadata": {
    "vscode": {
     "languageId": "r"
    }
   },
   "outputs": [],
   "source": [
    "# Create an empty data frame to store the values\n",
    "x_df_temp <- data.frame()\n",
    "# Loop through the indices from 1 to 35\n",
    "for (i in 1:35) {\n",
    "  # Extract values from the raster object at index i\n",
    "  x_values <- raster::values(temperature[[i]])\n",
    "  \n",
    "  # Create a new row in the data frame and assign the values to it\n",
    "  x_df_temp <- rbind(x_df_temp, x_values)\n",
    "}\n",
    "\n",
    "# change col names\n",
    "colnames(x_df_temp) <- c(1:21344)\n",
    "# change from K to C\n",
    "x_df_temp <- x_df_temp - 273"
   ]
  },
  {
   "cell_type": "markdown",
   "metadata": {},
   "source": [
    "Create Crop Yield Data Frame"
   ]
  },
  {
   "cell_type": "code",
   "execution_count": 39,
   "metadata": {
    "vscode": {
     "languageId": "r"
    }
   },
   "outputs": [],
   "source": [
    "#--------------------------------------------------------------------###maize###\n",
    "# Create an empty data frame to store the values\n",
    "y_df_maize <- data.frame()\n",
    "# Loop through the indices from 1 to 35\n",
    "for (i in 1:35) {\n",
    "  # Extract values from the raster object \n",
    "  y_values <- raster::values(datacube[[i]])\n",
    "  \n",
    "  # Create a new row in the data frame and assign the values to it\n",
    "  y_df_maize <- rbind(y_df_maize, y_values)\n",
    "}\n",
    "# change col names\n",
    "colnames(y_df_maize) <- c(1:21344) \n",
    "\n",
    "#------------------------------------------------------------------###soybean###\n",
    "# Create an empty data frame to store the values\n",
    "y_df_soybean <- data.frame()\n",
    "# Loop through the indices from 1 to 35\n",
    "for (i in 1:35) {\n",
    "  # Extract values from the raster object\n",
    "  y_values <- raster::values(datacube[[i+35]])\n",
    "  \n",
    "  # Create a new row in the data frame and assign the values to it\n",
    "  y_df_soybean <- rbind(y_df_soybean, y_values)\n",
    "}\n",
    "# change col names\n",
    "colnames(y_df_soybean) <- c(1:21344) \n",
    "\n",
    "#--------------------------------------------------------------------###spring_wheat###\n",
    "# Create an empty data frame to store the values\n",
    "y_df_wheat <- data.frame()\n",
    "# Loop through the indices from 1 to 35\n",
    "for (i in 1:35) {\n",
    "  # Extract values from the raster object\n",
    "  y_values <- raster::values(datacube[[i+70]])\n",
    "  \n",
    "  # Create a new row in the data frame and assign the values to it\n",
    "  y_df_wheat <- rbind(y_df_wheat, y_values)\n",
    "}\n",
    "# change col names\n",
    "colnames(y_df_wheat) <- c(1:21344) "
   ]
  },
  {
   "cell_type": "markdown",
   "metadata": {},
   "source": [
    "Round Data - (Binning: For Noise Reduction)"
   ]
  },
  {
   "cell_type": "code",
   "execution_count": 40,
   "metadata": {
    "vscode": {
     "languageId": "r"
    }
   },
   "outputs": [],
   "source": [
    "#rotate data\n",
    "x_temp <- t(x_df_temp)\n",
    "y_maize <- t(y_df_maize)\n",
    "y_soybean <- t(y_df_soybean)\n",
    "y_wheat <- t(y_df_wheat)\n",
    "\n",
    "#round data\n",
    "x_temp <- round(x_temp, digits = 0)\n",
    "data_temp_maize <- data.frame(x = x_temp, y = y_maize)\n",
    "data_temp_soybean <- data.frame(x = x_temp, y = y_soybean)\n",
    "data_temp_wheat <- data.frame(x = x_temp, y = y_wheat)\n",
    "\n",
    "#--------------------------------------------------------------------------maize\n",
    "#Combine all rows from columns x.1 to x.35 into a single x column\n",
    "data_all_x_maize <- data_temp_maize  %>%\n",
    "  select(starts_with(\"x.\")) %>%\n",
    "  unlist() %>%\n",
    "  as.data.frame() %>%\n",
    "  setNames(\"x\")\n",
    "\n",
    "#Combine all rows from columns y.1 to y.35 into a single y column\n",
    "data_all_y_maize <- data_temp_maize %>%\n",
    "  select(starts_with(\"y.\")) %>%\n",
    "  unlist() %>%\n",
    "  as.data.frame() %>%\n",
    "  setNames(\"y\")\n",
    "\n",
    "#Combine x and y dataframes into data_all\n",
    "temp_maize <- cbind(data_all_x_maize, data_all_y_maize)\n",
    "\n",
    "#calculate mean data frame\n",
    "mean_temp_maize <- temp_maize %>%\n",
    "  group_by(x) %>%\n",
    "  summarise(y = mean(y,na.rm=T))\n",
    "#------------------------------------------------------------------------soybean\n",
    "#Combine all rows from columns x.1 to x.35 into a single x column\n",
    "data_all_x_soybean <- data_temp_soybean  %>%\n",
    "  select(starts_with(\"x.\")) %>%\n",
    "  unlist() %>%\n",
    "  as.data.frame() %>%\n",
    "  setNames(\"x\")\n",
    "\n",
    "#Combine all rows from columns y.1 to y.35 into a single y column\n",
    "data_all_y_soybean <- data_temp_soybean %>%\n",
    "  select(starts_with(\"y.\")) %>%\n",
    "  unlist() %>%\n",
    "  as.data.frame() %>%\n",
    "  setNames(\"y\")\n",
    "\n",
    "#Combine x and y dataframes into data_all\n",
    "temp_soybean <- cbind(data_all_x_soybean, data_all_y_soybean)\n",
    "\n",
    "#calculate mean data frame\n",
    "mean_temp_soybean <- temp_soybean %>%\n",
    "  group_by(x) %>%\n",
    "  summarise(y = mean(y,na.rm=T))\n",
    "#--------------------------------------------------------------------------wheat\n",
    "#Combine all rows from columns x.1 to x.35 into a single x column\n",
    "data_all_x_wheat <- data_temp_wheat  %>%\n",
    "  select(starts_with(\"x.\")) %>%\n",
    "  unlist() %>%\n",
    "  as.data.frame() %>%\n",
    "  setNames(\"x\")\n",
    "\n",
    "#Combine all rows from columns y.1 to y.35 into a single y column\n",
    "data_all_y_wheat <- data_temp_wheat %>%\n",
    "  select(starts_with(\"y.\")) %>%\n",
    "  unlist() %>%\n",
    "  as.data.frame() %>%\n",
    "  setNames(\"y\")\n",
    "\n",
    "#Combine x and y dataframes into data_all\n",
    "temp_wheat <- cbind(data_all_x_wheat, data_all_y_wheat)\n",
    "\n",
    "#calculate mean data frame\n",
    "mean_temp_wheat <- temp_wheat %>%\n",
    "  group_by(x) %>%\n",
    "  summarise(y = mean(y,na.rm=T))\n"
   ]
  },
  {
   "cell_type": "markdown",
   "metadata": {},
   "source": [
    "Plot It"
   ]
  },
  {
   "cell_type": "code",
   "execution_count": 41,
   "metadata": {
    "vscode": {
     "languageId": "r"
    }
   },
   "outputs": [
    {
     "data": {
      "image/png": "[encoded data removed]",
      "text/plain": [
       "Plot with title \"Spring Wheat\""
      ]
     },
     "metadata": {
      "image/png": {
       "height": 420,
       "width": 420
      }
     },
     "output_type": "display_data"
    }
   ],
   "source": [
    "# Set up a 1x3 multi-panel layout\n",
    "par(mfrow = c(1, 3))\n",
    "\n",
    "# Plot for maize\n",
    "plot(mean_temp_maize$x, mean_temp_maize$y, pch = 16, cex = 2.5, bg = \"honeydew3\", col = \"honeydew4\",\n",
    "     xlab = \"Temperature [°C]\", ylab = \"Mean Crop Yield Anomaly\", main = \"Maize\", xlim = c(0, 35),ylim= c(-0.15, 0.15))\n",
    "correlation <- cor(mean_temp_maize$x, mean_temp_maize$y, use = \"complete.obs\")\n",
    "legend(\"topright\", paste(\"r =\", round(correlation, 2)), bty = \"n\")\n",
    "regression_model <- lm(y ~ x, data = mean_temp_maize)\n",
    "abline(regression_model, col = \"lemonchiffon4\",lwd=2)\n",
    "\n",
    "# Plot for soybean\n",
    "plot(mean_temp_soybean$x, mean_temp_soybean$y, pch = 16, cex = 2.5, bg = \"honeydew3\", col = \"honeydew4\",\n",
    "     xlab = \"Temperature [°C]\", ylab = \"Mean Crop Yield Anomaly\", main = \"Soybean\", xlim = c(0, 35),ylim= c(-0.15, 0.15))\n",
    "correlation <- cor(mean_temp_soybean$x, mean_temp_soybean$y, use = \"complete.obs\")\n",
    "legend(\"topright\", paste(\"r =\", round(correlation, 2)), bty = \"n\")\n",
    "regression_model <- lm(y ~ x, data = mean_temp_soybean)\n",
    "abline(regression_model, col = \"lemonchiffon4\",lwd=2)\n",
    "\n",
    "# Plot for wheat\n",
    "plot(mean_temp_wheat$x, mean_temp_wheat$y, pch = 16, cex = 2.5, bg = \"honeydew3\", col = \"honeydew4\",\n",
    "     xlab = \"Temperature [°C]\", ylab = \"Mean Crop Yield Anomaly\", main = \"Spring Wheat\", xlim = c(0, 35),ylim= c(-0.15, 0.15))\n",
    "correlation <- cor(mean_temp_wheat$x, mean_temp_wheat$y, use = \"complete.obs\")\n",
    "legend(\"topright\", paste(\"r =\", round(correlation, 2)), bty = \"n\")\n",
    "regression_model <- lm(y ~ x, data = mean_temp_wheat)\n",
    "abline(regression_model, col = \"lemonchiffon4\",lwd=2)\n",
    "\n",
    "# Reset the layout to a single panel\n",
    "par(mfrow = c(1, 1))"
   ]
  },
  {
   "cell_type": "markdown",
   "metadata": {},
   "source": [
    "# Prediction Model (Linear Rregression): Precipitation"
   ]
  },
  {
   "cell_type": "markdown",
   "metadata": {},
   "source": [
    "Create Precipitation Data Frame\n"
   ]
  },
  {
   "cell_type": "code",
   "execution_count": 42,
   "metadata": {
    "vscode": {
     "languageId": "r"
    }
   },
   "outputs": [],
   "source": [
    "# Create an empty data frame to store the values\n",
    "x_df_prec <- data.frame()\n",
    "# Loop through the indices from 1 to 35\n",
    "for (i in 1:35) {\n",
    "  # Extract values from the raster object at index i\n",
    "  x_values <- raster::values(datacube[[i+105]])\n",
    "  \n",
    "  # Create a new row in the data frame and assign the values to it\n",
    "  x_df_prec <- rbind(x_df_prec, x_values)\n",
    "}\n",
    "# change col names\n",
    "colnames(x_df_prec) <- c(1:21344)"
   ]
  },
  {
   "cell_type": "markdown",
   "metadata": {},
   "source": [
    "Create Crop Yield Data Frame"
   ]
  },
  {
   "cell_type": "code",
   "execution_count": 43,
   "metadata": {
    "vscode": {
     "languageId": "r"
    }
   },
   "outputs": [],
   "source": [
    "#--------------------------------------------------------------------###maize###\n",
    "# Create an empty data frame to store the values\n",
    "y_df_maize <- data.frame()\n",
    "# Loop through the indices from 1 to 35\n",
    "for (i in 1:35) {\n",
    "  # Extract values from the raster object\n",
    "  y_values <- raster::values(datacube[[i]])\n",
    "  \n",
    "  # Create a new row in the data frame and assign the values to it\n",
    "  y_df_maize <- rbind(y_df_maize, y_values)\n",
    "}\n",
    "# change col names\n",
    "colnames(y_df_maize) <- c(1:21344) \n",
    "\n",
    "#------------------------------------------------------------------###soybean###\n",
    "# Create an empty data frame to store the values\n",
    "y_df_soybean <- data.frame()\n",
    "# Loop through the indices from 1 to 35\n",
    "for (i in 1:35) {\n",
    "  # Extract values from the raster object\n",
    "  y_values <- raster::values(datacube[[i+35]])\n",
    "  \n",
    "  # Create a new row in the data frame and assign the values to it\n",
    "  y_df_soybean <- rbind(y_df_soybean, y_values)\n",
    "}\n",
    "# change col names\n",
    "colnames(y_df_soybean) <- c(1:21344) \n",
    "\n",
    "#--------------------------------------------------------------------###wheat###\n",
    "# Create an empty data frame to store the values\n",
    "y_df_wheat <- data.frame()\n",
    "# Loop through the indices from 1 to 35\n",
    "for (i in 1:35) {\n",
    "  # Extract values from the raster object\n",
    "  y_values <- raster::values(datacube[[i+70]])\n",
    "  \n",
    "  # Create a new row in the data frame and assign the values to it\n",
    "  y_df_wheat <- rbind(y_df_wheat, y_values)\n",
    "}\n",
    "# change col names\n",
    "colnames(y_df_wheat) <- c(1:21344) "
   ]
  },
  {
   "cell_type": "markdown",
   "metadata": {},
   "source": [
    "Round Data (Binning: For Noise Reduction)"
   ]
  },
  {
   "cell_type": "code",
   "execution_count": 44,
   "metadata": {
    "vscode": {
     "languageId": "r"
    }
   },
   "outputs": [],
   "source": [
    "#rotate data\n",
    "x_prec <- t(x_df_prec)\n",
    "y_maize <- t(y_df_maize)\n",
    "y_soybean <- t(y_df_soybean)\n",
    "y_wheat <- t(y_df_wheat)\n",
    "\n",
    "#round data\n",
    "x_prec <- round(x_prec, digits = 0)\n",
    "data_prec_maize <- data.frame(x = x_prec, y = y_maize)\n",
    "data_prec_soybean <- data.frame(x = x_prec, y = y_soybean)\n",
    "data_prec_wheat <- data.frame(x = x_prec, y = y_wheat)\n",
    "\n",
    "#--------------------------------------------------------------------------maize\n",
    "#Combine all rows from columns x.1 to x.35 into a single x column\n",
    "data_all_x_maize <- data_prec_maize  %>%\n",
    "  select(starts_with(\"x.\")) %>%\n",
    "  unlist() %>%\n",
    "  as.data.frame() %>%\n",
    "  setNames(\"x\")\n",
    "\n",
    "#Combine all rows from columns y.1 to y.35 into a single y column\n",
    "data_all_y_maize <- data_prec_maize %>%\n",
    "  select(starts_with(\"y.\")) %>%\n",
    "  unlist() %>%\n",
    "  as.data.frame() %>%\n",
    "  setNames(\"y\")\n",
    "\n",
    "#Combine x and y dataframes into data_all\n",
    "prec_maize <- cbind(data_all_x_maize, data_all_y_maize)\n",
    "\n",
    "#calculate mean data frame\n",
    "mean_prec_maize <- prec_maize %>%\n",
    "  group_by(x) %>%\n",
    "  summarise(y = mean(y,na.rm=T))\n",
    "#------------------------------------------------------------------------soybean\n",
    "#Combine all rows from columns x.1 to x.35 into a single x column\n",
    "data_all_x_soybean <- data_prec_soybean  %>%\n",
    "  select(starts_with(\"x.\")) %>%\n",
    "  unlist() %>%\n",
    "  as.data.frame() %>%\n",
    "  setNames(\"x\")\n",
    "\n",
    "#Combine all rows from columns y.1 to y.35 into a single y column\n",
    "data_all_y_soybean <- data_prec_soybean %>%\n",
    "  select(starts_with(\"y.\")) %>%\n",
    "  unlist() %>%\n",
    "  as.data.frame() %>%\n",
    "  setNames(\"y\")\n",
    "\n",
    "#Combine x and y dataframes into data_all\n",
    "prec_soybean <- cbind(data_all_x_soybean, data_all_y_soybean)\n",
    "\n",
    "#calculate mean data frame\n",
    "mean_prec_soybean <- prec_soybean %>%\n",
    "  group_by(x) %>%\n",
    "  summarise(y = mean(y,na.rm=T))\n",
    "#--------------------------------------------------------------------------wheat\n",
    "#Combine all rows from columns x.1 to x.35 into a single x column\n",
    "data_all_x_wheat <- data_prec_wheat  %>%\n",
    "  select(starts_with(\"x.\")) %>%\n",
    "  unlist() %>%\n",
    "  as.data.frame() %>%\n",
    "  setNames(\"x\")\n",
    "\n",
    "#Combine all rows from columns y.1 to y.35 into a single y column\n",
    "data_all_y_wheat <- data_prec_wheat %>%\n",
    "  select(starts_with(\"y.\")) %>%\n",
    "  unlist() %>%\n",
    "  as.data.frame() %>%\n",
    "  setNames(\"y\")\n",
    "\n",
    "#Combine x and y dataframes into data_all\n",
    "prec_wheat <- cbind(data_all_x_wheat, data_all_y_wheat)\n",
    "\n",
    "#calculate mean data frame\n",
    "mean_prec_wheat <- prec_wheat %>%\n",
    "  group_by(x) %>%\n",
    "  summarise(y = mean(y,na.rm=T))"
   ]
  },
  {
   "cell_type": "markdown",
   "metadata": {},
   "source": [
    "Plot It"
   ]
  },
  {
   "cell_type": "code",
   "execution_count": 45,
   "metadata": {
    "vscode": {
     "languageId": "r"
    }
   },
   "outputs": [
    {
     "data": {
      "image/png": "[encoded data removed]",
      "text/plain": [
       "Plot with title \"Spring Wheat\""
      ]
     },
     "metadata": {
      "image/png": {
       "height": 420,
       "width": 420
      }
     },
     "output_type": "display_data"
    }
   ],
   "source": [
    "# Set up a 1x3 multi-panel layout\n",
    "par(mfrow = c(1, 3))\n",
    "\n",
    "# Plot for maize\n",
    "plot(mean_prec_maize$x, mean_prec_maize$y, pch = 21, cex = 2.5,bg = \"honeydew4\", col = \"honeydew3\",\n",
    "     xlab = \"Total Precipitation [mm]\", ylab = \"Mean Crop Yield Anomaly\", main = \"Maize\", xlim = c(0, 180),ylim=c(-2,0.5))\n",
    "correlation <- cor(mean_prec_maize$x, mean_prec_maize$y, use = \"complete.obs\")\n",
    "legend(\"topright\", paste(\"r =\", round(correlation, 2)), bty = \"n\")\n",
    "regression_model <- lm(y ~ x, data = mean_prec_maize)\n",
    "abline(regression_model, col = \"lemonchiffon4\",lwd=2)\n",
    "\n",
    "# Plot for soybean\n",
    "plot(mean_prec_soybean$x, mean_prec_soybean$y, pch = 21, cex = 2.5,bg = \"honeydew4\", col = \"honeydew3\",\n",
    "     xlab = \"Total Precipitation [mm]\", ylab = \"Mean Crop Yield Anomaly\", main = \"Soybean\", xlim = c(0, 180),ylim=c(-2,0.5))\n",
    "correlation <- cor(mean_prec_soybean$x, mean_prec_soybean$y, use = \"complete.obs\")\n",
    "legend(\"topright\", paste(\"r =\", round(correlation, 2)), bty = \"n\")\n",
    "regression_model <- lm(y ~ x, data = mean_prec_soybean)\n",
    "abline(regression_model, col = \"lemonchiffon4\",lwd=2)\n",
    "\n",
    "# Plot for wheat\n",
    "plot(mean_prec_wheat$x, mean_prec_wheat$y, pch = 21, cex = 2.5,bg = \"honeydew4\", col = \"honeydew3\",\n",
    "     xlab = \"Total Precipitation [mm]\", ylab = \"Mean Crop Yield Anomaly\", main = \"Spring Wheat\", xlim = c(0, 180),ylim=c(-2,0.5))\n",
    "correlation <- cor(mean_prec_wheat$x, mean_prec_wheat$y, use = \"complete.obs\")\n",
    "legend(\"topright\", paste(\"r =\", round(correlation, 2)), bty = \"n\")\n",
    "regression_model <- lm(y ~ x, data = mean_prec_wheat)\n",
    "abline(regression_model, col = \"lemonchiffon4\",lwd=2)\n",
    "\n",
    "# Reset the layout to a single panel\n",
    "par(mfrow = c(1, 1))\n"
   ]
  },
  {
   "cell_type": "markdown",
   "metadata": {},
   "source": [
    "# Multiple Linear Regression (Spatial Patterns)"
   ]
  },
  {
   "cell_type": "markdown",
   "metadata": {},
   "source": [
    "### 1. MAIZE"
   ]
  },
  {
   "cell_type": "code",
   "execution_count": 46,
   "metadata": {
    "vscode": {
     "languageId": "r"
    }
   },
   "outputs": [],
   "source": [
    "# Precipitation Coefficient\n",
    "fun=function(x) { if (is.na(x[1])){ NA } else { m = lm(scale(x[1:35]) ~ scale(x[106:140]) + scale(x[141:175]));summary(m)$coefficients[2]}} #climate variables: Precipitation\n",
    "maize.precipitation.coeff <- calc(datacube, fun)\n",
    "\n",
    "# Air Temperature Mean\n",
    "fun=function(x) { if (is.na(x[1])){ NA } else { m = lm(scale(x[1:35]) ~ scale(x[106:140]) + scale(x[141:175]));summary(m)$coefficients[3]}} #climate variables: Precipitation\n",
    "maize.air.temperature.coeff <- calc(datacube, fun)\n",
    "\n",
    "# rsquared\n",
    "r2=function(x) { if (is.na(x[1])){ NA } else {m <- lm((x[1:35]) ~  (x[106:140]) + (x[141:175]));summary(m)$adj.r.squared}}\n",
    "maize.rsquared <- calc(datacube, r2)\n",
    "\n",
    "# student's t-test \n",
    "ttest=function(x) { if (is.na(x[1])){ NA } else {m <- lm(scale(x[1:35]) ~ scale(x[106:140]) + scale(x[141:175])); pf(summary(m)$fstatistic[\"value\"],summary(m)$fstatistic[\"numdf\"],summary(m)$fstatistic[\"dendf\"],lower.tail=F)}} #confidence intervall of 95%\n",
    "maize.pvalue <- calc(datacube, ttest)\n",
    "\n",
    "# alpha level 0.05\n",
    "maize.sign <- maize.pvalue\n",
    "maize.sign[maize.sign > 0.05] <- NA\n",
    "\n",
    "# root mean error \n",
    "rmse_=function(x) { if (is.na(x[1])){ NA } else {m <- lm(((x[1:35])) ~ + (x[106:140]) + (x[141:175])); sqrt(mean(m$residuals^2))}} \n",
    "maize.rmse <- calc(datacube, rmse_)\n"
   ]
  },
  {
   "cell_type": "markdown",
   "metadata": {},
   "source": [
    "Plot Maize"
   ]
  },
  {
   "cell_type": "code",
   "execution_count": 47,
   "metadata": {
    "vscode": {
     "languageId": "r"
    }
   },
   "outputs": [
    {
     "data": {
      "image/png": "[encoded data removed]",
      "text/plain": [
       "Plot with title \"Maize \""
      ]
     },
     "metadata": {
      "image/png": {
       "height": 420,
       "width": 420
      }
     },
     "output_type": "display_data"
    }
   ],
   "source": [
    "par(mfrow = c(1, 6))\n",
    "main_title <- \"Maize \"\n",
    "\n",
    "# Plot each coefficient\n",
    "plot(maize.precipitation.coeff, main= main_title, sub = \"Precipitation Coefficient\", axes= FALSE)\n",
    "plot(maize.air.temperature.coeff, main= main_title, sub = \"Air Temperature 2m Coefficient\",axes= FALSE)\n",
    "plot(maize.rsquared,     main= main_title, sub = \"Adjusted R?\",axes= FALSE)\n",
    "plot(maize.pvalue,       main= main_title, sub = \"p-value\",axes= FALSE)\n",
    "plot(maize.rmse,         main= main_title, sub = \"RMSE\",axes= FALSE)\n",
    "plot(maize.sign,         main= main_title, sub = \"alpha level 0.05\",axes= FALSE)"
   ]
  },
  {
   "cell_type": "markdown",
   "metadata": {},
   "source": [
    "### 2 SOYBEAN"
   ]
  },
  {
   "cell_type": "code",
   "execution_count": 48,
   "metadata": {
    "vscode": {
     "languageId": "r"
    }
   },
   "outputs": [],
   "source": [
    "# Precipitation Coefficient\n",
    "fun=function(x) { if (is.na(x[36])){ NA } else { m <-lm(scale(x[36:70]) ~ scale(x[106:140]) + scale(x[141:175]));summary(m)$coefficients[2]}} #climate variables: Precipitation\n",
    "soybean.precipitation.coeff <- calc(datacube, fun)\n",
    "\n",
    "# Air Temperature Mean\n",
    "fun=function(x) { if (is.na(x[36])){ NA } else { m <- lm(scale(x[36:70]) ~ scale(x[106:140]) + scale(x[141:175]));summary(m)$coefficients[3]}} #climate variables: Precipitation\n",
    "soybean.air.temperature.coeff <- calc(datacube, fun)\n",
    "\n",
    "# rsquared\n",
    "r2=function(x) { if (is.na(x[36])){ NA } else {m <- lm((x[36:70]) ~  (x[106:140]) + (x[141:175]));summary(m)$adj.r.squared}}\n",
    "soybean.rsquared <- calc(datacube, r2)\n",
    "\n",
    "# student's t-test \n",
    "ttest=function(x) { if (is.na(x[36])){ NA } else {m <- lm(scale(x[36:70]) ~ scale(x[106:140]) + scale(x[141:175])); pf(summary(m)$fstatistic[\"value\"],summary(m)$fstatistic[\"numdf\"],summary(m)$fstatistic[\"dendf\"],lower.tail=F)}} #confidence intervall of 95%\n",
    "soybean.pvalue <- calc(datacube, ttest)\n",
    "\n",
    "# alpha level 0.05\n",
    "soybean.sign <- soybean.pvalue\n",
    "soybean.sign[soybean.sign > 0.05] <- NA\n",
    "\n",
    "# root mean error \n",
    "rmse_=function(x) { if (is.na(x[36])){ NA } else {m <- lm(((x[36:70])) ~ + (x[106:140]) + (x[141:175])); sqrt(mean(m$residuals^2))}} \n",
    "soybean.rmse <- calc(datacube, rmse_)"
   ]
  },
  {
   "cell_type": "markdown",
   "metadata": {},
   "source": [
    "Plot Soybean"
   ]
  },
  {
   "cell_type": "code",
   "execution_count": 49,
   "metadata": {
    "vscode": {
     "languageId": "r"
    }
   },
   "outputs": [
    {
     "data": {
      "image/png": "[encoded data removed]",
      "text/plain": [
       "Plot with title \"Soybean \""
      ]
     },
     "metadata": {
      "image/png": {
       "height": 420,
       "width": 420
      }
     },
     "output_type": "display_data"
    }
   ],
   "source": [
    "par(mfrow = c(1, 6))\n",
    "main_title <- \"Soybean \"\n",
    "\n",
    "# Plot each coefficient\n",
    "plot(soybean.precipitation.coeff, main= main_title, sub = \"Precipitation Coefficient\", axes= FALSE)\n",
    "plot(soybean.air.temperature.coeff, main= main_title, sub = \"Air Temperature 2m Coefficient\",axes= FALSE)\n",
    "plot(soybean.rsquared,     main= main_title, sub = \"Adjusted R?\",axes= FALSE)\n",
    "plot(soybean.pvalue,       main= main_title, sub = \"p-value\",axes= FALSE)\n",
    "plot(soybean.rmse,         main= main_title, sub = \"RMSE\",axes= FALSE)\n",
    "plot(soybean.sign,         main= main_title, sub = \"alpha level 0.05\",axes= FALSE)"
   ]
  },
  {
   "cell_type": "markdown",
   "metadata": {},
   "source": [
    "### 3 SPRING WHEAT"
   ]
  },
  {
   "cell_type": "code",
   "execution_count": 50,
   "metadata": {
    "vscode": {
     "languageId": "r"
    }
   },
   "outputs": [],
   "source": [
    "# Precipitation Coefficient\n",
    "fun=function(x) { if (is.na(x[71])){ NA } else {m <- lm(scale(x[71:105]) ~ scale(x[106:140]) + scale(x[141:175]));summary(m)$coefficients[2]}} #climate variables: Precipitation\n",
    "wheat.precipitation.coeff <- calc(datacube, fun)\n",
    "\n",
    "# Air Temperature Mean\n",
    "fun=function(x) { if (is.na(x[71])){ NA } else {m <- lm(scale(x[71:105]) ~ scale(x[106:140]) + scale(x[141:175]));summary(m)$coefficients[3]}} #climate variables: Precipitation\n",
    "wheat.air.temperature.coeff <- calc(datacube, fun)\n",
    "\n",
    "# rsquared\n",
    "r2=function(x) { if (is.na(x[71])){ NA } else {m <- lm((x[71:105]) ~  (x[106:140]) + (x[141:175]));summary(m)$adj.r.squared}}\n",
    "wheat.rsquared <- calc(datacube, r2)\n",
    "\n",
    "# student's t-test \n",
    "ttest=function(x) { if (is.na(x[71])){ NA } else {m <- lm(scale(x[71:105]) ~ scale(x[106:140]) + scale(x[141:175])); pf(summary(m)$fstatistic[\"value\"],summary(m)$fstatistic[\"numdf\"],summary(m)$fstatistic[\"dendf\"],lower.tail=F)}} #confidence intervall of 95%\n",
    "wheat.pvalue <- calc(datacube, ttest)\n",
    "\n",
    "# alpha level 0.05\n",
    "wheat.sign <- wheat.pvalue\n",
    "wheat.sign[wheat.sign > 0.05] <- NA\n",
    "\n",
    "# root mean error \n",
    "rmse_=function(x) { if (is.na(x[71])){ NA } else {m <- lm(((x[71:105])) ~ + (x[106:140]) + (x[141:175])); sqrt(mean(m$residuals^2))}} \n",
    "wheat.rmse <- calc(datacube, rmse_)"
   ]
  },
  {
   "cell_type": "markdown",
   "metadata": {},
   "source": [
    "Plot Spring Wheat"
   ]
  },
  {
   "cell_type": "code",
   "execution_count": 51,
   "metadata": {
    "vscode": {
     "languageId": "r"
    }
   },
   "outputs": [
    {
     "data": {
      "image/png": "[encoded data removed]",
      "text/plain": [
       "Plot with title \"Spring wheat \""
      ]
     },
     "metadata": {
      "image/png": {
       "height": 420,
       "width": 420
      }
     },
     "output_type": "display_data"
    }
   ],
   "source": [
    "par(mfrow = c(1, 6))\n",
    "main_title <- \"Spring wheat \"\n",
    "\n",
    "# Plot each coefficient\n",
    "plot(wheat.precipitation.coeff, main= main_title, sub = \"Precipitation Coefficient\", axes= FALSE)\n",
    "plot(wheat.air.temperature.coeff, main= main_title, sub = \"Air Temperature 2m Coefficient\",axes= FALSE)\n",
    "plot(wheat.rsquared,     main= main_title, sub = \"Adjusted R?\",axes= FALSE)\n",
    "plot(wheat.pvalue,       main= main_title, sub = \"p-value\",axes= FALSE)\n",
    "plot(wheat.rmse,         main= main_title, sub = \"RMSE\",axes= FALSE)\n",
    "plot(wheat.sign,         main= main_title, sub = \"alpha level 0.05\",axes= FALSE)"
   ]
  },
  {
   "cell_type": "markdown",
   "metadata": {},
   "source": [
    "Plots were edited in QGIS"
   ]
  }
 ],
 "metadata": {
  "kernelspec": {
   "display_name": "R",
   "language": "R",
   "name": "ir"
  },
  "language_info": {
   "codemirror_mode": "r",
   "file_extension": ".r",
   "mimetype": "text/x-r-source",
   "name": "R",
   "pygments_lexer": "r",
   "version": "4.3.0"
  },
  "orig_nbformat": 4
 },
 "nbformat": 4,
 "nbformat_minor": 2
}
